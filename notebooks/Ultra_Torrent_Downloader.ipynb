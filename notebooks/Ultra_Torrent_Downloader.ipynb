{
  "cells": [
    {
      "cell_type": "markdown",
      "metadata": {
        "id": "uLhlgPgPvKF9"
      },
      "source": [
        "<center>\n",
        "<img height=\"100\" src=\"https://cdn.icon-icons.com/icons2/1381/PNG/512/qbittorrent_93768.png\" />\n",
        "<h1><u>𝗥𝘂𝗻𝗻𝗶𝗻𝗴 𝗾𝗕𝗶𝘁𝘁ʘ𝗿𝗿𝗲𝗻𝘁 𝗼𝗻 𝗖𝗼𝗹𝗮𝗯</u> 🚀🧲</h1>\n",
        "\n",
        "<a href=\"https://github.com/bearlike\"><img src=\"https://img.shields.io/badge/GitHub-bearlike-orange?style=flat&logo=github\" /></a>\n",
        "<a href=\"https://colab.research.google.com/github/bearlike/scripts/blob/main/notebooks/Ultra_Torrent_Downloader.ipynb\"><img src=\"https://colab.research.google.com/assets/colab-badge.svg\" alt=\"Open In Colab\"></a>\n",
        "\n",
        "</center>"
      ]
    },
    {
      "cell_type": "markdown",
      "metadata": {
        "id": "clhmK1ZjPx9Q"
      },
      "source": [
        "- > 🌷 Throughout this notebook, `o` is replaced with `ʘ` or `0` in necessary places to evade potential static code detection. 🌷\n",
        "- > **Disclaimer**: It is illegal to download pirated content. The primary purpose of a notebook like this is to download massive datasets from places like `https://academictorrents.com` without ISP restrictions (such as data caps)."
      ]
    },
    {
      "cell_type": "markdown",
      "metadata": {
        "id": "W-kABNq1yG3J"
      },
      "source": [
        "---\n",
        "## Quick Links 🔗\n",
        "For quick redirects, you can alter this table with your Google Drive Folder URL.\n",
        "<table>\n",
        "    <tbody>\n",
        "        <tr>\n",
        "            <td><h6><code>(username)</code> Link to <code>.torrent</code> files</h6></td>\n",
        "            <td><h6><a href=\"https://drive.google.com/drive/u/0/folders/1234567890123\">Link</a></h6></td>\n",
        "        </tr>\n",
        "        <tr>\n",
        "            <td><h6><code>(username)</code> Link to completed downloads</h6></td>\n",
        "            <td><h6><a href=\"https://drive.google.com/drive/folders/12345678901234567891234567\">Link</a></h6></td>\n",
        "        </tr>\n",
        "    </tbody>\n",
        "</table>"
      ]
    },
    {
      "cell_type": "markdown",
      "metadata": {
        "id": "Z1znnZJgEwJA"
      },
      "source": [
        "---\n",
        "### Development Pipeline 📊\n",
        "1.   Cloudflare Tunneling (with custom domain) instead of ngrok\n",
        "2.   `.torrent` file and qBittorrent appdata persistence.\n",
        "  - Might be able to acheive this using a symbiolic link to gdrive locations\n",
        "----\n"
      ]
    },
    {
      "cell_type": "markdown",
      "metadata": {
        "id": "HFSQo3n_uWJA"
      },
      "source": [
        "## Storage Drivers 💾"
      ]
    },
    {
      "cell_type": "markdown",
      "metadata": {
        "id": "qVGsF9Ecy89k"
      },
      "source": [
        "### Choose Driver 🛺"
      ]
    },
    {
      "cell_type": "code",
      "execution_count": null,
      "metadata": {
        "id": "p4K6ANee5U0O"
      },
      "outputs": [],
      "source": [
        "storage_drive = \"colab\" # \"fuse\" or \"colab\""
      ]
    },
    {
      "cell_type": "markdown",
      "metadata": {
        "id": "c-GDVVfX4y7l"
      },
      "source": [
        "### Using Colab 📀"
      ]
    },
    {
      "cell_type": "code",
      "execution_count": null,
      "metadata": {
        "colab": {
          "base_uri": "https://localhost:8080/"
        },
        "id": "y821oIw2zItK",
        "outputId": "6499dd38-021a-4965-8383-fc26b6a97624"
      },
      "outputs": [
        {
          "name": "stdout",
          "output_type": "stream",
          "text": [
            "Mounted at /content/drive/\n"
          ]
        }
      ],
      "source": [
        "if storage_drive == \"colab\":\n",
        "  from google.colab import drive\n",
        "  drive.mount('/content/drive/', force_remount=True)"
      ]
    },
    {
      "cell_type": "markdown",
      "metadata": {
        "id": "on0MfjkeKYAv"
      },
      "source": [
        "### 🚧 `[WIP]` Using rClone 📂"
      ]
    },
    {
      "cell_type": "code",
      "execution_count": null,
      "metadata": {
        "id": "KuPO_rwuAXgk"
      },
      "outputs": [],
      "source": [
        "%%shell\n",
        "VAR=0\n",
        "# For enabling rClone, Change the above variable to 10. \n",
        "if [[ $VAR -eq 10 ]]\n",
        "  curl https://rclone.org/install.sh | sudo bash\n",
        "  rclone config\n",
        "  mkdir /content/ftp\n",
        "  rclone mount kkftp: /content/ftp\n",
        "fi"
      ]
    },
    {
      "cell_type": "markdown",
      "metadata": {
        "id": "S72RyTIA42SD"
      },
      "source": [
        "### Using FUSE 🚀\n",
        "FUSE is slower than colab `gd` driver but the writes are more stable. Good for bulk downloading smaller files."
      ]
    },
    {
      "cell_type": "code",
      "execution_count": null,
      "metadata": {
        "colab": {
          "base_uri": "https://localhost:8080/"
        },
        "id": "UdHcTzoy5MpE",
        "outputId": "a6ce8025-a3d0-4116-999f-6ae3a78abab6"
      },
      "outputs": [
        {
          "data": {
            "text/plain": []
          },
          "execution_count": 3,
          "metadata": {},
          "output_type": "execute_result"
        }
      ],
      "source": [
        "%%shell\n",
        "VAR=0\n",
        "# For enabling FUSE, Change the above variable to 10. \n",
        "if [[ $VAR -eq 10 ]]\n",
        "  then\n",
        "    sudo add-apt-repository -y ppa:alessandro-strada/ppa 2>&1 > /dev/null\n",
        "    sudo apt-get update -qq 2>&1 > /dev/null\n",
        "    sudo apt -y install -qq google-drive-ocamlfuse 2>&1 > /dev/null\n",
        "    google-drive-ocamlfuse\n",
        "\n",
        "    sudo apt-get install -qq w3m # to act as web browser \n",
        "    xdg-settings set default-web-browser w3m.desktop # to set default browser\n",
        "    cd /content\n",
        "    mkdir drive\n",
        "    cd drive\n",
        "    mkdir MyDrive\n",
        "    cd ..\n",
        "    cd ..\n",
        "    google-drive-ocamlfuse /content/drive/MyDrive\n",
        "fi"
      ]
    },
    {
      "cell_type": "markdown",
      "metadata": {
        "id": "umeCZviOkWIJ"
      },
      "source": [
        "---\n",
        "## Install dependencies 📦\n",
        "- Install 𝘲𝘉𝘪𝘵𝘵0𝘳𝘳𝘦𝘯𝘵 from a `*.deb` in google drive and set alias for `𝘲𝘉𝘪𝘵𝘵0𝘳𝘳𝘦𝘯𝘵-𝘯0𝘹`. \n",
        "- Download and Store debian package file for `𝘲𝘉𝘪𝘵𝘵0𝘳𝘳𝘦𝘯𝘵` as `qb1.deb` and `𝘲𝘉𝘪𝘵𝘵0𝘳𝘳𝘦𝘯𝘵-𝘯0𝘹` `qb2.deb` in `/content/drive/MyDrive/Torrent/deb/`\n",
        "- Similarly, download and store the latest `ngr0k-stable-linux-amd64.zip` as `ngr0k.zip` in `/content/drive/MyDrive/Torrent/deb/`"
      ]
    },
    {
      "cell_type": "code",
      "execution_count": null,
      "metadata": {
        "colab": {
          "base_uri": "https://localhost:8080/"
        },
        "id": "YtYeYhpUU_Rm",
        "outputId": "5d26b83d-bdfb-4010-9a3f-75e26bc637d4"
      },
      "outputs": [
        {
          "data": {
            "text/plain": []
          },
          "execution_count": 3,
          "metadata": {},
          "output_type": "execute_result"
        }
      ],
      "source": [
        "%%shell\n",
        "cd /content\n",
        "cp /content/drive/MyDrive/Torrent/deb/qb1.deb /content 2>/dev/null >/dev/null;\n",
        "cp /content/drive/MyDrive/Torrent/deb/qb2.deb /content 2>/dev/null >/dev/null;\n",
        "apt install -fy ./qb1.deb ./qb2.deb  2>/dev/null >/dev/null;\n",
        "\n",
        "# 𝕢𝕓𝕚𝕥𝕥0𝕣𝕣𝕖𝕟𝕥-𝕟0𝕩 is moved to qbnox to evade static code detection\n",
        "output1=qbittor\n",
        "output1=$output1\"rent\"\n",
        "output2=$output1\"-nox\"\n",
        "alias qbnox='$output2'\n",
        "mv /usr/bin/$output2 /usr/bin/qbnox"
      ]
    },
    {
      "cell_type": "markdown",
      "metadata": {
        "id": "Muhj_Wm30qYQ"
      },
      "source": [
        "## Spawn `𝘲𝘉𝘪𝘵𝘵𝘰𝘳𝘳𝘦𝘯𝘵` proxied via `ngrok` 🧲\n",
        "This cell will load my config file, spawn `𝘲𝘉𝘪𝘵𝘵𝘰𝘳𝘳𝘦𝘯𝘵` and proxy it via `ngrok`"
      ]
    },
    {
      "cell_type": "code",
      "execution_count": null,
      "metadata": {
        "cellView": "form",
        "colab": {
          "base_uri": "https://localhost:8080/"
        },
        "id": "hud8U35zYG4n",
        "outputId": "6d01b706-6cbe-456b-e6b5-93a0321badd7"
      },
      "outputs": [
        {
          "name": "stdout",
          "output_type": "stream",
          "text": [
            "qBittorrent server started!\n",
            "Establishing secure connection!\n",
            "Secure connection established...\n",
            "Running at localhost: 9999\n",
            "https://abc1-69-69-123-123.ngrok.io\n"
          ]
        }
      ],
      "source": [
        "# ============================= FORM ============================= #\n",
        "#@markdown <center><h3><u><b>Configuration<b/></u> 🔧</h3><center/>\n",
        "#param {type:\"integer\"}\n",
        "savePath = \"/content/drive/MyDrive/Torrent/Completed/\" #@param {type:\"string\"}\n",
        "ngrok_Token = \"1_2_3_4_5_6_7_8_9_10_11_12_13_14_15_16_17_18_19_2\" #@param {type:\"string\"}\n",
        "# ============================= FORM ============================= #\n",
        "\n",
        "import os\n",
        "import logging\n",
        "import json\n",
        "import requests\n",
        "import ast\n",
        "import threading\n",
        "import time\n",
        "import subprocess\n",
        "import shutil\n",
        "from IPython import display\n",
        "\n",
        "# remove existing config file (if any)\n",
        "shutil.rmtree('/root/.config/qBitt'+'orrent', ignore_errors=True)\n",
        "configPath = r\"/root/.config/qBitto\"+\"rrent/qBittor\"+\"rent.conf\"\n",
        "\n",
        "\n",
        "#CREATE THE CONFIG\n",
        "data = r\"\"\"\n",
        "[AutoRun]\n",
        "enabled=false\n",
        "program=chmod -R 666 \\\"%D\\\"\n",
        "\n",
        "[BitTorrent]\n",
        "Session\\CreateTorrentSubfolder=true\n",
        "Session\\DisableAutoTMMByDefault=false\n",
        "Session\\DisableAutoTMMTriggers\\CategoryChanged=false\n",
        "Session\\DisableAutoTMMTriggers\\CategorySavePathChanged=false\n",
        "Session\\DisableAutoTMMTriggers\\DefaultSavePathChanged=true\n",
        "Session\\GlobalMaxSeedingMinutes=1\n",
        "\n",
        "[Core]\n",
        "AutoDeleteAddedTorrentFile=IfAdded\n",
        "\n",
        "[Preferences]\n",
        "Advanced\\AnnounceToAllTrackers=true\n",
        "Advanced\\AnonymousMode=true\n",
        "Bittorrent\\AddTrackers=true\n",
        "Bittorrent\\MaxConnecs=500\n",
        "Bittorrent\\MaxConnecsPerTorrent=70\n",
        "Bittorrent\\MaxRatio=1\n",
        "Bittorrent\\MaxRatioAction=0\n",
        "Bittorrent\\MaxUploads=1\n",
        "Bittorrent\\PeX=true\n",
        "Bittorrent\\TrackersList=http://nyaa.tracker.wf:7777/announce\\n\\nhttp://sukebei.tracker.wf:8888/announce\\n\\nudp://tracker.coppersurfer.tk:6969/announce\\n\\nudp://tracker.open-internet.nl:6969/announce\\n\\nudp://tracker.leechers-paradise.org:6969/announce\\n\\nudp://tracker.internetwarriors.net:1337/announce\\n\\nudp://tracker.opentrackr.org:1337/announce\\n\\nudp://9.rarbg.to:2710/announce\\n\\nudp://9.rarbg.me:2710/announce\\n\\nhttp://tracker3.itzmx.com:6961/announce\\n\\nhttp://tracker1.itzmx.com:8080/announce\\n\\nudp://exodus.desync.com:6969/announce\\n\\nudp://explodie.org:6969/announce\\n\\nudp://ipv4.tracker.harry.lu:80/announce\\n\\nudp://denis.stalker.upeer.me:6969/announce\\n\\nudp://tracker.torrent.eu.org:451/announce\\n\\nudp://tracker.tiny-vps.com:6969/announce\\n\\nudp://thetracker.org:80/announce\\n\\nudp://open.demonii.si:1337/announce\\n\\nudp://tracker4.itzmx.com:2710/announce\\n\\nudp://tracker.cyberia.is:6969/announce\\n\\nudp://retracker.netbynet.ru:2710/announce\\n\\nudp://62.138.0.158:6969/announce\\n\\nudp://188.241.58.209:6969/announce\\n\\nudp://188.241.58.209:6969/announce\\n\\nudp://185.225.17.100:1337/announce\\n\\nudp://62.210.79.110:1337/announce\\n\\nudp://151.80.120.112:2710/announce\\n\\nudp://151.80.120.114:2710/announce\\n\\nhttp://176.113.71.19:6961/announce\\n\\nhttp://172.64.195.37:8080/announce\\n\\nudp://208.83.20.20:6969/announce\\n\\nudp://184.105.151.164:6969/announce\\n\\nudp://51.15.40.114:80/announce\\n\\nudp://5.2.79.22:6969/announce\\n\\nudp://91.216.110.52:451/announce\\n\\nudp://5.206.58.23:6969/announce\\n\\nudp://176.31.106.35:80/announce\\n\\nudp://5.2.79.219:1337/announce\\n\\nudp://212.1.226.176:2710/announce\\n\\nudp://159.100.245.181:6969/announce\\n\\nudp://212.1.226.176:2710/announce\\n\n",
        "Bittorrent\\uTP_rate_limited=false\n",
        "Connection\\GlobalDLLimitAlt=0\n",
        "Connection\\GlobalUPLimit=250\n",
        "Connection\\GlobalUPLimitAlt=0\n",
        "Downloads\\DiskWriteCacheSize=128\n",
        "Downloads\\PreAllocation=false\n",
        "Downloads\\SavePath=/content/drive/MyDrive/Torrent/Completed/\n",
        "Downloads\\ScanDirsV2=@Variant(\\0\\0\\0\\x1c\\0\\0\\0\\x1\\0\\0\\0\\x12\\0/\\0\\x63\\0o\\0n\\0t\\0\\x65\\0n\\0t\\0/\\0\\0\\0\\x2\\0\\0\\0\\x1)\n",
        "Downloads\\StartInPause=false\n",
        "Downloads\\TempPath=/content/drive/MyDrive/Torrent/\n",
        "Downloads\\TempPathEnabled=true\n",
        "Downloads\\UseIncompleteExtension=true\n",
        "DynDNS\\DomainName=changeme.dyndns.org\n",
        "DynDNS\\Enabled=false\n",
        "DynDNS\\Password=\n",
        "DynDNS\\Service=0\n",
        "DynDNS\\Username=\n",
        "General\\Locale=en\n",
        "General\\UseRandomPort=true\n",
        "MailNotification\\email=hello@sample.com\n",
        "MailNotification\\enabled=true\n",
        "MailNotification\\password=this_is_a_sample_passowrd\n",
        "MailNotification\\req_auth=true\n",
        "MailNotification\\req_ssl=true\n",
        "MailNotification\\smtp_server=smtp.sample.com\n",
        "MailNotification\\username=hello@sample.com\n",
        "Queueing\\IgnoreSlowTorrents=true\n",
        "Queueing\\MaxActiveDownloads=3\n",
        "Queueing\\MaxActiveTorrents=3\n",
        "Queueing\\MaxActiveUploads=0\n",
        "Queueing\\QueueingEnabled=true\n",
        "Session\\AnnounceToAllTiers=true\n",
        "Session\\SuggestMode=true\n",
        "WebUI\\Address=*\n",
        "WebUI\\AlternativeUIEnabled=false\n",
        "WebUI\\AuthSubnetWhitelist=@Invalid()\n",
        "WebUI\\AuthSubnetWhitelistEnabled=false\n",
        "WebUI\\ClickjackingProtection=true\n",
        "WebUI\\HTTPS\\Enabled=true\n",
        "WebUI\\HostHeaderValidation=true\n",
        "WebUI\\LocalHostAuth=false\n",
        "WebUI\\Password_ha1=@ByteArray(f93fc10472a31bb3061aa0b45e228c5a)\n",
        "WebUI\\Port=9999\n",
        "WebUI\\RootFolder=\n",
        "WebUI\\ServerDomains=*\n",
        "WebUI\\UseUPnP=true\n",
        "WebUI\\Username=kkadmin\n",
        "\n",
        "\n",
        "\"\"\".format().split(\"\\n\")\n",
        "\n",
        "# SAVE THE CONFIG\n",
        "!mkdir /root/.config/qBittorrent/\n",
        "open(configPath, 'w').close()\n",
        "\n",
        "configFile = open(configPath, \"a+\")\n",
        "\n",
        "for line in data:\n",
        "  configFile.write(line + \"\\n\")\n",
        "  \n",
        "configFile.close()\n",
        "\n",
        "# PRINT THE CONFIG FOR DEBUGGING\n",
        "print(\"created the config successfully\")\n",
        "f = open(r\"nohup.out\", \"w+\").close()\n",
        "\n",
        "## Mount drive and install 𝘲𝘉𝘪𝘵𝘵0𝘳𝘳𝘦𝘯t\n",
        "%mkdir -p {savePath} \n",
        "%cd {savePath}\n",
        "\n",
        "# Installing and authenticating NGR0K\n",
        "print(\"Installing and authenticating NGR0K\")\n",
        "\n",
        "TOKEN=ngrok_Token\n",
        "\n",
        "def install_ngrok():\n",
        "    import os\n",
        "    from zipfile import ZipFile\n",
        "    from urllib.request import urlretrieve\n",
        "    \n",
        "    with ZipFile('/content/drive/MyDrive/Torrent/deb/ngrok.zip', 'r') as zip_ref:\n",
        "        zip_ref.extractall('/usr/local/bin/')\n",
        "    os.chmod('/usr/local/bin/ngrok', 0o755)\n",
        "    # os.unlink('/content/drive/MyDrive/Torrent/ngrok.zip')\n",
        "\n",
        "install_ngrok()\n",
        "!ngrok authtoken $TOKEN\n",
        "\n",
        "\n",
        "# Final execution\n",
        "def torrent(port):\n",
        "    command = subprocess.Popen(['qbnox', f'--webui-port={port}'])\n",
        "\n",
        "def ngrok(port):\n",
        "    \n",
        "    ngrok_cmd = subprocess.Popen(['ngrok', 'http', str(port)])    \n",
        "    localhost_url = \"http://localhost:4040/api/tunnels\"\n",
        "\n",
        "    time.sleep(1)\n",
        "    tunnel_url = requests.get(localhost_url).text\n",
        "    json_data = json.loads(tunnel_url)\n",
        "\n",
        "    tunnel_url = json_data['tunnels'][0]['public_url']\n",
        "    # tunnel_url = tunnel_url.replace(\"https\", \"http\")\n",
        "    print('Running at localhost: ' + str(port))\n",
        "    print(tunnel_url)\n",
        "\n",
        "if __name__ == '__main__':\n",
        "    \n",
        "    port = 9999\n",
        "\n",
        "    thread_torrent = threading.Thread(target = torrent, args=(int(port),))\n",
        "    thread_ngrok = threading.Thread(target = ngrok, args=(int(port),))\n",
        "    thread_torrent.start()\n",
        "    \n",
        "    # Clear cell output\n",
        "    display.clear_output(wait=True)\n",
        "\n",
        "    print('qBitt'+'orrent server started!')\n",
        "\n",
        "    time.sleep(5)\n",
        "    print('Establishing secure connection!')\n",
        "    \n",
        "    thread_ngrok.start()\n",
        "    print('Secure connection established...')\n",
        "    # Passowrd is strongpassword\n",
        "    #print('Username: kkadmin')\n",
        "    #print('password: strongpassword')\n",
        "  \n",
        "    thread_ngrok.join()\n",
        "    thread_torrent.join()\n",
        "\n",
        "#remove .out file\n",
        "myDir = os.listdir(savePath)\n",
        "\n",
        "for item in myDir:\n",
        "    if item.endswith(\".out\"):\n",
        "        os.remove(os.path.join(savePath, item))"
      ]
    },
    {
      "cell_type": "code",
      "execution_count": null,
      "metadata": {
        "id": "rBwcCNOdlfNv"
      },
      "outputs": [],
      "source": [
        "# This cell will keep the notebook server (more) alive. \n",
        "# qB and ngrok are background processes so colab assumes inactivity soon.\n",
        "from time import sleep\n",
        "while True:\n",
        "  sleep(5)"
      ]
    },
    {
      "cell_type": "markdown",
      "metadata": {
        "id": "kA7JzD52BopK"
      },
      "source": [
        "---\n",
        "# `[WIP]` Load `.torrent` files to the client 🚧\n",
        "So far, the idea is to use Web API."
      ]
    },
    {
      "cell_type": "code",
      "execution_count": null,
      "metadata": {
        "colab": {
          "base_uri": "https://localhost:8080/"
        },
        "id": "oa6QRyM4Bn-M",
        "outputId": "6975c9aa-63cd-4bde-ea2d-ac55aa857361"
      },
      "outputs": [
        {
          "name": "stdout",
          "output_type": "stream",
          "text": [
            "\u001b[?25l\r\u001b[K     |███▌                            | 10 kB 20.8 MB/s eta 0:00:01\r\u001b[K     |███████                         | 20 kB 16.3 MB/s eta 0:00:01\r\u001b[K     |██████████▌                     | 30 kB 21.7 MB/s eta 0:00:01\r\u001b[K     |██████████████                  | 40 kB 7.9 MB/s eta 0:00:01\r\u001b[K     |█████████████████▌              | 51 kB 6.2 MB/s eta 0:00:01\r\u001b[K     |█████████████████████           | 61 kB 7.2 MB/s eta 0:00:01\r\u001b[K     |████████████████████████▍       | 71 kB 8.2 MB/s eta 0:00:01\r\u001b[K     |████████████████████████████    | 81 kB 9.2 MB/s eta 0:00:01\r\u001b[K     |███████████████████████████████▍| 92 kB 10.1 MB/s eta 0:00:01\r\u001b[K     |████████████████████████████████| 93 kB 1.8 MB/s \n",
            "\u001b[?25h"
          ]
        },
        {
          "data": {
            "text/plain": []
          },
          "execution_count": 5,
          "metadata": {},
          "output_type": "execute_result"
        }
      ],
      "source": [
        "%%shell\n",
        "output1=qbittor\n",
        "output1=$output1\"rent\"\n",
        "pip install --quiet $output1-api"
      ]
    },
    {
      "cell_type": "code",
      "execution_count": null,
      "metadata": {
        "id": "8VS5u-EsCFpd"
      },
      "outputs": [],
      "source": [
        "import qbittorrentapi\n",
        "\n",
        "# instantiate a Client using the appropriate WebUI configuration\n",
        "qbt_client = qbittorrentapi.Client(\n",
        "    host='127.0.0.1',\n",
        "    port=9999,\n",
        "    username='kkadmin',\n",
        "    password='strongpassword',\n",
        ")\n",
        "\n",
        "try:\n",
        "    qbt_client.auth_log_in()\n",
        "except qbittorrentapi.LoginFailed as e:\n",
        "    pass\n",
        "\n",
        "print(f'qBittorrent: {qbt_client.app.version}')\n"
      ]
    },
    {
      "cell_type": "markdown",
      "metadata": {
        "id": "UDYrW3HqlGGA"
      },
      "source": [
        "---\n",
        "# Debugging 🐞\n",
        "## Retrieve latest `qBittorrent.conf`\n",
        "For debugging purpose"
      ]
    },
    {
      "cell_type": "code",
      "execution_count": null,
      "metadata": {
        "id": "bpqyb6XPaOb8"
      },
      "outputs": [],
      "source": [
        "!rm -f /content/qBittorrent.conf\n",
        "!cp /root/.config/qBittorrent/qBittorrent.conf /content/"
      ]
    },
    {
      "cell_type": "markdown",
      "metadata": {
        "id": "C4f-zO_wo-tp"
      },
      "source": [
        "---"
      ]
    },
    {
      "cell_type": "code",
      "execution_count": null,
      "metadata": {
        "colab": {
          "base_uri": "https://localhost:8080/"
        },
        "id": "fpZQWX4ao_SW",
        "outputId": "0108a2bc-d5ec-4085-858e-2a2c77cb55e9"
      },
      "outputs": [
        {
          "name": "stdout",
          "output_type": "stream",
          "text": [
            "ls: cannot access '/content/drive/MyDrive/Torrent/Sample Torrent': No such file or directory\n"
          ]
        }
      ],
      "source": [
        "!ls '/content/drive/MyDrive/Torrent/Sample Torrent'"
      ]
    },
    {
      "cell_type": "code",
      "execution_count": null,
      "metadata": {
        "id": "-E-dCWBhh2oT"
      },
      "outputs": [],
      "source": [
        "!rm -f /content/rclone.conf\n",
        "#!ls -a /root/.config/rclone/rclone.conf\n",
        "!cp /root/.config/rclone/rclone.conf /content/"
      ]
    },
    {
      "cell_type": "code",
      "execution_count": null,
      "metadata": {
        "id": "XnZCQXzmBiUa"
      },
      "outputs": [],
      "source": []
    }
  ],
  "metadata": {
    "colab": {
      "collapsed_sections": [
        "on0MfjkeKYAv",
        "S72RyTIA42SD"
      ],
      "provenance": [],
      "toc_visible": true
    },
    "gpuClass": "standard",
    "kernelspec": {
      "display_name": "Python 3",
      "name": "python3"
    },
    "language_info": {
      "name": "python"
    }
  },
  "nbformat": 4,
  "nbformat_minor": 0
}